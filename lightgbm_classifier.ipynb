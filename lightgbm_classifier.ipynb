{
 "cells": [
  {
   "cell_type": "code",
   "execution_count": 15,
   "id": "cc2c970c",
   "metadata": {},
   "outputs": [
    {
     "name": "stdout",
     "output_type": "stream",
     "text": [
      "accuracy_score:0.9605263157894737 f1_score:0.853907134767837 recall_score0.7887029288702929 precision_score0.9308641975308642\n"
     ]
    }
   ],
   "source": [
    "import os\n",
    "import random\n",
    "import pickle\n",
    "import pandas as pd\n",
    "import xgboost as xgb\n",
    "from sklearn.model_selection import train_test_split\n",
    "from sklearn.metrics import accuracy_score,f1_score,recall_score,precision_score\n",
    "from gensim.models import Word2Vec\n",
    "import lightgbm as lgb\n",
    "\n",
    "import numpy as np\n",
    "def get_data(path):\n",
    "    df = pd.read_csv(path, encoding='gbk')\n",
    "\n",
    "    train_y_label = df.iloc[:, -1]\n",
    "    train_x_text = df.iloc[:, -9:-1]\n",
    "\n",
    "    train_y_cost = df.loc[:, 'SUB_AMT']\n",
    "\n",
    "    df = df.drop('SUB_AMT', axis=1)\n",
    "    # df = df.drop('TOTAL_RECEIPT_AMT', axis=1)\n",
    "    df.drop(df.columns[list(range(-9, 0, 1))], axis=1, inplace=True)\n",
    "    train_x_figure = df\n",
    "\n",
    "    return train_x_figure.values.tolist(), train_x_text.values, train_y_label.values.tolist(), train_y_cost.values.tolist()\n",
    "def cat_word_2_vec(all_x_figure,texts):\n",
    "    num, co_num = texts.shape\n",
    "\n",
    "    for i in range(co_num):\n",
    "        lis = []\n",
    "        for j in range(num):\n",
    "            lis.append([str(texts[j][i])])\n",
    "        unique_list = list(set(map(tuple, lis)))\n",
    "        lis = [list(item) for item in unique_list]\n",
    "\n",
    "        if os.path.exists(f'lgb_model/w2v_{i}.npy'):\n",
    "            with open(f'lgb_model/w2v_{i}.npy','rb') as f :\n",
    "                word_2_vec=pickle.load(f)\n",
    "        else:\n",
    "            word_2_vec = Word2Vec(sentences=lis, vector_size=5, window=30, min_count=1)\n",
    "\n",
    "            with open(f'lgb_model/w2v_{i}.npy','wb') as f :\n",
    "                pickle.dump(word_2_vec,f)\n",
    "        for j in range(len(all_x_figure)):\n",
    "            all_x_figure[j] +=word_2_vec.wv[str(texts[j][i])].tolist()\n",
    "    return all_x_figure\n",
    "def get_trains_data(train_x_figure,train_y_label,rate=6):\n",
    "    trains_data = [(train_x_figure, train_y_label)]\n",
    "    return trains_data\n",
    "def seed_everything(seed):\n",
    "    np.random.seed(seed)\n",
    "    random.seed(seed)\n",
    "if __name__ == '__main__':\n",
    "    seed_everything(3407)\n",
    "    all_x_figure, all_x_text, all_y_label, all_y_cost = get_data('df_data_premodel_final.csv')\n",
    "    all_x_figure = cat_word_2_vec(all_x_figure,all_x_text)\n",
    "    X, y =  all_x_figure,all_y_label# 特征和标签\n",
    "    X_train, X_test, y_train, y_test = train_test_split(X, y, test_size=0.05, random_state=42)\n",
    "\n",
    "    trains_data = get_trains_data(X_train,y_train)\n",
    "\n",
    "    d_k = len(trains_data)\n",
    "\n",
    "    params = {\n",
    "        'objective': 'multiclass',\n",
    "        'num_class': 2,\n",
    "        'max_depth': 20,\n",
    "        'learning_rate': 0.1,\n",
    "        'num_leaves': 256\n",
    "    }\n",
    "\n",
    "    all_pre = np.array([0.0]*len(X_test))\n",
    "    for k in range(d_k):\n",
    "        X_train,y_train = trains_data[k]\n",
    "        dtrain = lgb.Dataset(np.array(X_train), label=np.array(y_train))\n",
    "        dtest = lgb.Dataset(np.array(X_test), label=np.array(y_test))\n",
    "        if os.path.exists(f\"lgb_model/model_{k}.dat\"):\n",
    "            model = pickle.load(open(f\"lgb_model/model_{k}.dat\", \"rb\"))\n",
    "        else:\n",
    "            # model = xgb.train(params, dtrain, num_boost_round=40)\n",
    "            model = lgb.train(params, dtrain, num_boost_round=150)\n",
    "            pickle.dump(model, open(f\"lgb_model/model_{k}.dat\", \"wb\"))\n",
    "\n",
    "        y_pred = model.predict(X_test)\n",
    "        y_pred = np.argmax(y_pred, axis=1)#结果\n",
    "        accuracy,f1,recall,prec = accuracy_score(y_test, y_pred),f1_score(y_test, y_pred),recall_score(y_test, y_pred),precision_score(y_test, y_pred)\n",
    "        print(f'accuracy_score:{accuracy} f1_score:{f1} recall_score{recall} precision_score{prec}')\n",
    "\n",
    "\n"
   ]
  },
  {
   "cell_type": "code",
   "execution_count": null,
   "id": "22575e22",
   "metadata": {},
   "outputs": [],
   "source": []
  }
 ],
 "metadata": {
  "kernelspec": {
   "display_name": "Python 3.8.8 ('base')",
   "language": "python",
   "name": "python3"
  },
  "language_info": {
   "codemirror_mode": {
    "name": "ipython",
    "version": 3
   },
   "file_extension": ".py",
   "mimetype": "text/x-python",
   "name": "python",
   "nbconvert_exporter": "python",
   "pygments_lexer": "ipython3",
   "version": "3.8.8"
  },
  "vscode": {
   "interpreter": {
    "hash": "241889a0b61dbbef2cf3a4038ddd1b115bba6b3613df59268b4bbaaab4b322a4"
   }
  }
 },
 "nbformat": 4,
 "nbformat_minor": 5
}
