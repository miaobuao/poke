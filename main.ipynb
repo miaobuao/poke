{
 "cells": [
  {
   "cell_type": "code",
   "execution_count": 1,
   "metadata": {},
   "outputs": [],
   "source": [
    "import sys\n",
    "sys.path.append(\"D:/File/大/大三下/poke\")\n",
    "# 导入 Flask 框架、request 对象和 secure_filename 方法\n",
    "from flask import Flask, request, jsonify\n",
    "from werkzeug.utils import secure_filename\n",
    "import os\n",
    "from Processing import Processing\n",
    "from Predict import predict\n",
    "from flask_cors import *\n",
    "import math\n"
   ]
  },
  {
   "cell_type": "code",
   "execution_count": 2,
   "metadata": {},
   "outputs": [],
   "source": [
    "# 允许上传的文件类型，这里限制为 csv、xlsx 和 xls 格式的文件\n",
    "ALLOWED_EXTENSIONS = set(['csv', 'xlsx', 'xls'])\n",
    "\n",
    "# 检查上传的文件类型是否在 ALLOWED_EXTENSIONS 中\n",
    "def isAllowedFile(filename):\n",
    "    return '.'in filename and filename.split('.')[-1] in ALLOWED_EXTENSIONS"
   ]
  },
  {
   "cell_type": "code",
   "execution_count": 3,
   "metadata": {},
   "outputs": [
    {
     "data": {
      "text/plain": [
       "<flask_cors.extension.CORS at 0x7fbc0f67d150>"
      ]
     },
     "execution_count": 3,
     "metadata": {},
     "output_type": "execute_result"
    }
   ],
   "source": [
    "app=Flask(__name__)\n",
    "# 设置文件上传保存路径，这里设置为当前文件夹下的 upload 文件夹\n",
    "app.config['UPLOAD_FOLDER'] = 'upload/'\n",
    "CORS(app, supports_credentials=True)"
   ]
  },
  {
   "cell_type": "code",
   "execution_count": 4,
   "metadata": {},
   "outputs": [],
   "source": [
    "@app.route('/load_network',methods=['GET'])\n",
    "def load_network():\n",
    "    with open(\"data_network.json\",'r', encoding='UTF-8') as f:\n",
    "        load_dict = f.read()\n",
    "    return load_dict"
   ]
  },
  {
   "cell_type": "code",
   "execution_count": 5,
   "metadata": {},
   "outputs": [],
   "source": [
    "@app.route('/load_wordcloud',methods=['GET'])\n",
    "def load_wordcloud():\n",
    "    with open(\"data_wordcloud.json\",'r', encoding='UTF-8') as f:\n",
    "        load_dict = f.read()\n",
    "    return load_dict"
   ]
  },
  {
   "cell_type": "code",
   "execution_count": 6,
   "metadata": {},
   "outputs": [],
   "source": [
    "@app.route('/load_flow',methods=['GET'])\n",
    "def load_flow():\n",
    "    with open(\"data_flow.json\",'r', encoding='UTF-8') as f:\n",
    "        load_dict = f.read()\n",
    "    return load_dict"
   ]
  },
  {
   "cell_type": "code",
   "execution_count": 7,
   "metadata": {},
   "outputs": [],
   "source": [
    "@app.route('/load_line',methods=['POST'])\n",
    "def load_line():\n",
    "    lst=request.get_json()\n",
    "\n",
    "    import json\n",
    "    with open('data_line.json','r', encoding='UTF-8')as f:\n",
    "        data=json.load(f)\n",
    "    ans=[]\n",
    "    for hosptial in lst: \n",
    "        ans.append(data[hosptial])\n",
    "    return json.dumps({k: data[k] for k in lst}, ensure_ascii=False)"
   ]
  },
  {
   "cell_type": "code",
   "execution_count": 8,
   "metadata": {},
   "outputs": [],
   "source": [
    "@app.route('/load_hospital',methods=['GET'])\n",
    "def load_hospital():\n",
    "    import json\n",
    "    with open('line_hospital.json','r', encoding='UTF-8')as f:\n",
    "        data=json.load(f)\n",
    "    data = list(set(data))\n",
    "    data = [d for d in data if type(d) is str]\n",
    "    # data.remove(float('nan'))\n",
    "    return json.dumps(data, ensure_ascii=False)"
   ]
  },
  {
   "cell_type": "code",
   "execution_count": 9,
   "metadata": {},
   "outputs": [],
   "source": [
    "@app.route('/upload', methods=['POST'])\n",
    "def upload_file():\n",
    "    # 处理文件上传请求\n",
    "    # if request.method == 'POST':\n",
    "        # 判断请求中是否包含文件\n",
    "        if 'file' not in request.files:\n",
    "            return {'message': 'No file part'}\n",
    "        file = request.files['file']\n",
    "\n",
    "        # 如果用户没有选择文件，则返回错误信息\n",
    "        if file.filename == '':\n",
    "            return {'message': 'No selected file'}\n",
    "\n",
    "        # 如果用户上传的文件符合要求，则保存文件并返回成功信息\n",
    "        if file and isAllowedFile(file.filename):\n",
    "            # 使用 secure_filename 方法生成安全文件名\n",
    "            filename = secure_filename(file.filename)\n",
    "            # 将文件保存到指定目录\n",
    "            originPath=os.path.join(app.config['UPLOAD_FOLDER'], filename)\n",
    "            processedPath=os.path.join(app.config['UPLOAD_FOLDER'], \"processed\"+filename.split('.')[0]+\".csv\")\n",
    "            file.save(originPath)\n",
    "            # 数据预处理并预测\n",
    "            try:\n",
    "                print(\"start process data...\")\n",
    "                prcs=Processing()\n",
    "                prcs.processing(originPath,processedPath)\n",
    "                print(\"process data overed\")\n",
    "            except: \n",
    "                print(\"数据格式不匹配\")\n",
    "                return {'error':\"数据格式不匹配\"}\n",
    "            ans=predict(processedPath)\n",
    "            print(ans)\n",
    "            return {'message': ans}\n",
    "            \n",
    "            return jsonify({'message': 'File uploaded successfully'})"
   ]
  },
  {
   "cell_type": "code",
   "execution_count": 10,
   "metadata": {},
   "outputs": [
    {
     "name": "stdout",
     "output_type": "stream",
     "text": [
      " * Serving Flask app '__main__'\n",
      " * Debug mode: off\n"
     ]
    },
    {
     "name": "stderr",
     "output_type": "stream",
     "text": [
      "WARNING: This is a development server. Do not use it in a production deployment. Use a production WSGI server instead.\n",
      " * Running on http://127.0.0.1:5000\n",
      "Press CTRL+C to quit\n",
      "127.0.0.1 - - [10/Jun/2023 15:27:51] \"GET /load_hospital HTTP/1.1\" 200 -\n",
      "127.0.0.1 - - [10/Jun/2023 15:28:00] \"GET /load_network HTTP/1.1\" 200 -\n",
      "127.0.0.1 - - [10/Jun/2023 15:28:00] \"GET /load_wordcloud HTTP/1.1\" 200 -\n",
      "127.0.0.1 - - [10/Jun/2023 15:28:00] \"GET /load_flow HTTP/1.1\" 200 -\n",
      "127.0.0.1 - - [10/Jun/2023 15:28:04] \"GET /load_hospital HTTP/1.1\" 200 -\n",
      "127.0.0.1 - - [10/Jun/2023 15:29:23] \"GET /load_hospital HTTP/1.1\" 200 -\n",
      "127.0.0.1 - - [10/Jun/2023 15:29:36] \"GET /load_network HTTP/1.1\" 200 -\n",
      "127.0.0.1 - - [10/Jun/2023 15:29:36] \"GET /load_wordcloud HTTP/1.1\" 200 -\n",
      "127.0.0.1 - - [10/Jun/2023 15:29:36] \"GET /load_flow HTTP/1.1\" 200 -\n",
      "127.0.0.1 - - [10/Jun/2023 15:29:38] \"GET /load_hospital HTTP/1.1\" 200 -\n",
      "127.0.0.1 - - [10/Jun/2023 15:30:15] \"GET /load_hospital HTTP/1.1\" 200 -\n",
      "127.0.0.1 - - [10/Jun/2023 15:30:17] \"GET /load_network HTTP/1.1\" 200 -\n",
      "127.0.0.1 - - [10/Jun/2023 15:30:17] \"GET /load_wordcloud HTTP/1.1\" 200 -\n",
      "127.0.0.1 - - [10/Jun/2023 15:30:17] \"GET /load_flow HTTP/1.1\" 200 -\n",
      "127.0.0.1 - - [10/Jun/2023 15:30:20] \"GET /load_hospital HTTP/1.1\" 200 -\n",
      "127.0.0.1 - - [10/Jun/2023 15:32:15] \"OPTIONS /load_line HTTP/1.1\" 200 -\n",
      "[2023-06-10 15:32:15,891] ERROR in app: Exception on /load_line [POST]\n",
      "Traceback (most recent call last):\n",
      "  File \"/opt/anaconda/lib/python3.10/site-packages/flask/app.py\", line 2525, in wsgi_app\n",
      "    response = self.full_dispatch_request()\n",
      "  File \"/opt/anaconda/lib/python3.10/site-packages/flask/app.py\", line 1822, in full_dispatch_request\n",
      "    rv = self.handle_user_exception(e)\n",
      "  File \"/home/meo/.local/lib/python3.10/site-packages/flask_cors/extension.py\", line 165, in wrapped_function\n",
      "    return cors_after_request(app.make_response(f(*args, **kwargs)))\n",
      "  File \"/opt/anaconda/lib/python3.10/site-packages/flask/app.py\", line 1820, in full_dispatch_request\n",
      "    rv = self.dispatch_request()\n",
      "  File \"/opt/anaconda/lib/python3.10/site-packages/flask/app.py\", line 1796, in dispatch_request\n",
      "    return self.ensure_sync(self.view_functions[rule.endpoint])(**view_args)\n",
      "  File \"/tmp/ipykernel_55040/3392595576.py\", line 6, in load_line\n",
      "    with open('line_data.json','r', encoding='UTF-8')as f:\n",
      "  File \"/opt/anaconda/lib/python3.10/site-packages/IPython/core/interactiveshell.py\", line 282, in _modified_open\n",
      "    return io_open(file, *args, **kwargs)\n",
      "FileNotFoundError: [Errno 2] No such file or directory: 'line_data.json'\n",
      "127.0.0.1 - - [10/Jun/2023 15:32:15] \"POST /load_line HTTP/1.1\" 500 -\n",
      "127.0.0.1 - - [10/Jun/2023 15:32:48] \"OPTIONS /load_line HTTP/1.1\" 200 -\n",
      "[2023-06-10 15:32:48,812] ERROR in app: Exception on /load_line [POST]\n",
      "Traceback (most recent call last):\n",
      "  File \"/opt/anaconda/lib/python3.10/site-packages/flask/app.py\", line 2525, in wsgi_app\n",
      "    response = self.full_dispatch_request()\n",
      "  File \"/opt/anaconda/lib/python3.10/site-packages/flask/app.py\", line 1822, in full_dispatch_request\n",
      "    rv = self.handle_user_exception(e)\n",
      "  File \"/home/meo/.local/lib/python3.10/site-packages/flask_cors/extension.py\", line 165, in wrapped_function\n",
      "    return cors_after_request(app.make_response(f(*args, **kwargs)))\n",
      "  File \"/opt/anaconda/lib/python3.10/site-packages/flask/app.py\", line 1820, in full_dispatch_request\n",
      "    rv = self.dispatch_request()\n",
      "  File \"/opt/anaconda/lib/python3.10/site-packages/flask/app.py\", line 1796, in dispatch_request\n",
      "    return self.ensure_sync(self.view_functions[rule.endpoint])(**view_args)\n",
      "  File \"/tmp/ipykernel_55040/3392595576.py\", line 6, in load_line\n",
      "    with open('line_data.json','r', encoding='UTF-8')as f:\n",
      "  File \"/opt/anaconda/lib/python3.10/site-packages/IPython/core/interactiveshell.py\", line 282, in _modified_open\n",
      "    return io_open(file, *args, **kwargs)\n",
      "FileNotFoundError: [Errno 2] No such file or directory: 'line_data.json'\n",
      "127.0.0.1 - - [10/Jun/2023 15:32:48] \"POST /load_line HTTP/1.1\" 500 -\n"
     ]
    }
   ],
   "source": [
    "if __name__ == '__main__':\n",
    "    app.run()"
   ]
  }
 ],
 "metadata": {
  "kernelspec": {
   "display_name": "Python 3.8.8 ('base')",
   "language": "python",
   "name": "python3"
  },
  "language_info": {
   "codemirror_mode": {
    "name": "ipython",
    "version": 3
   },
   "file_extension": ".py",
   "mimetype": "text/x-python",
   "name": "python",
   "nbconvert_exporter": "python",
   "pygments_lexer": "ipython3",
   "version": "3.10.9"
  },
  "orig_nbformat": 4,
  "vscode": {
   "interpreter": {
    "hash": "241889a0b61dbbef2cf3a4038ddd1b115bba6b3613df59268b4bbaaab4b322a4"
   }
  }
 },
 "nbformat": 4,
 "nbformat_minor": 2
}
