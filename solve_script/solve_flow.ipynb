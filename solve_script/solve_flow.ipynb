{
 "cells": [
  {
   "cell_type": "code",
   "execution_count": 1,
   "metadata": {},
   "outputs": [],
   "source": [
    "import pandas as pd"
   ]
  },
  {
   "cell_type": "code",
   "execution_count": 2,
   "metadata": {},
   "outputs": [],
   "source": [
    "df_data = pd.read_excel('data_ori.xlsx',index_col=[0])"
   ]
  },
  {
   "cell_type": "code",
   "execution_count": 5,
   "metadata": {},
   "outputs": [
    {
     "data": {
      "text/plain": [
       "0            RMB 15\n",
       "1        RMB 493.95\n",
       "2          RMB 49.8\n",
       "3           RMB 140\n",
       "4           RMB 100\n",
       "            ...    \n",
       "77074    RMB 174.74\n",
       "77075        RMB 16\n",
       "77076       RMB 130\n",
       "77077         RMB 0\n",
       "77078    RMB 120.01\n",
       "Name: ORG_PRES_AMT, Length: 77079, dtype: object"
      ]
     },
     "execution_count": 5,
     "metadata": {},
     "output_type": "execute_result"
    }
   ],
   "source": [
    "df_data['INCUR_DATE_FROM']\n",
    "df_data['ORG_PRES_AMT']"
   ]
  },
  {
   "cell_type": "code",
   "execution_count": 7,
   "metadata": {},
   "outputs": [
    {
     "name": "stdout",
     "output_type": "stream",
     "text": [
      "RMB -.6 -0.6\n",
      "RMB -320.82 -320.82\n"
     ]
    },
    {
     "data": {
      "text/html": [
       "<div>\n",
       "<style scoped>\n",
       "    .dataframe tbody tr th:only-of-type {\n",
       "        vertical-align: middle;\n",
       "    }\n",
       "\n",
       "    .dataframe tbody tr th {\n",
       "        vertical-align: top;\n",
       "    }\n",
       "\n",
       "    .dataframe thead th {\n",
       "        text-align: right;\n",
       "    }\n",
       "</style>\n",
       "<table border=\"1\" class=\"dataframe\">\n",
       "  <thead>\n",
       "    <tr style=\"text-align: right;\">\n",
       "      <th></th>\n",
       "      <th>time</th>\n",
       "      <th>money</th>\n",
       "    </tr>\n",
       "  </thead>\n",
       "  <tbody>\n",
       "    <tr>\n",
       "      <th>0</th>\n",
       "      <td>2018-05-01</td>\n",
       "      <td>15.00</td>\n",
       "    </tr>\n",
       "    <tr>\n",
       "      <th>1</th>\n",
       "      <td>2018-05-01</td>\n",
       "      <td>493.95</td>\n",
       "    </tr>\n",
       "    <tr>\n",
       "      <th>2</th>\n",
       "      <td>2018-05-01</td>\n",
       "      <td>49.80</td>\n",
       "    </tr>\n",
       "    <tr>\n",
       "      <th>3</th>\n",
       "      <td>2018-05-01</td>\n",
       "      <td>140.00</td>\n",
       "    </tr>\n",
       "    <tr>\n",
       "      <th>4</th>\n",
       "      <td>2018-05-01</td>\n",
       "      <td>100.00</td>\n",
       "    </tr>\n",
       "    <tr>\n",
       "      <th>...</th>\n",
       "      <td>...</td>\n",
       "      <td>...</td>\n",
       "    </tr>\n",
       "    <tr>\n",
       "      <th>77074</th>\n",
       "      <td>2018-05-30</td>\n",
       "      <td>174.74</td>\n",
       "    </tr>\n",
       "    <tr>\n",
       "      <th>77075</th>\n",
       "      <td>2018-05-30</td>\n",
       "      <td>16.00</td>\n",
       "    </tr>\n",
       "    <tr>\n",
       "      <th>77076</th>\n",
       "      <td>2018-05-30</td>\n",
       "      <td>130.00</td>\n",
       "    </tr>\n",
       "    <tr>\n",
       "      <th>77077</th>\n",
       "      <td>2018-05-30</td>\n",
       "      <td>0.00</td>\n",
       "    </tr>\n",
       "    <tr>\n",
       "      <th>77078</th>\n",
       "      <td>2018-05-30</td>\n",
       "      <td>120.01</td>\n",
       "    </tr>\n",
       "  </tbody>\n",
       "</table>\n",
       "<p>77079 rows × 2 columns</p>\n",
       "</div>"
      ],
      "text/plain": [
       "             time   money\n",
       "0      2018-05-01   15.00\n",
       "1      2018-05-01  493.95\n",
       "2      2018-05-01   49.80\n",
       "3      2018-05-01  140.00\n",
       "4      2018-05-01  100.00\n",
       "...           ...     ...\n",
       "77074  2018-05-30  174.74\n",
       "77075  2018-05-30   16.00\n",
       "77076  2018-05-30  130.00\n",
       "77077  2018-05-30    0.00\n",
       "77078  2018-05-30  120.01\n",
       "\n",
       "[77079 rows x 2 columns]"
      ]
     },
     "execution_count": 7,
     "metadata": {},
     "output_type": "execute_result"
    }
   ],
   "source": [
    "nw = []\n",
    "for idx,row in df_data.iterrows():\n",
    "    ti=(str(row['INCUR_DATE_FROM']).split(' ')[0])\n",
    "    tmp=str(row['ORG_PRES_AMT']).split(' ')\n",
    "\n",
    "    mon=float(tmp[1])\n",
    "    if(mon<0):\n",
    "        print(row['ORG_PRES_AMT'],mon)\n",
    "    if tmp[0]=='USD':\n",
    "        mon*=7.1456\n",
    "    tmp={'time':ti,'money':mon}\n",
    "    s = pd.Series(tmp)\n",
    "    nw.append(s)\n",
    "nw_df = pd.DataFrame(nw)\n",
    "nw_df"
   ]
  },
  {
   "cell_type": "code",
   "execution_count": 9,
   "metadata": {},
   "outputs": [],
   "source": [
    "nw_df.to_csv('flow_data.csv')"
   ]
  }
 ],
 "metadata": {
  "kernelspec": {
   "display_name": "Python 3.8.8 ('base')",
   "language": "python",
   "name": "python3"
  },
  "language_info": {
   "codemirror_mode": {
    "name": "ipython",
    "version": 3
   },
   "file_extension": ".py",
   "mimetype": "text/x-python",
   "name": "python",
   "nbconvert_exporter": "python",
   "pygments_lexer": "ipython3",
   "version": "3.8.8"
  },
  "orig_nbformat": 4,
  "vscode": {
   "interpreter": {
    "hash": "241889a0b61dbbef2cf3a4038ddd1b115bba6b3613df59268b4bbaaab4b322a4"
   }
  }
 },
 "nbformat": 4,
 "nbformat_minor": 2
}
