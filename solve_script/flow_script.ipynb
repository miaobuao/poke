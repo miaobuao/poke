{
 "cells": [
  {
   "cell_type": "code",
   "execution_count": 6,
   "metadata": {},
   "outputs": [],
   "source": [
    "import pandas as pd"
   ]
  },
  {
   "cell_type": "code",
   "execution_count": 8,
   "metadata": {},
   "outputs": [],
   "source": [
    "def solve(n=6):\n",
    "    df=pd.read_csv('flow_data.csv')\n",
    "    div=59242.27/n\n",
    "    mp={}\n",
    "    minn=[]\n",
    "    maxn=[]\n",
    "    for i in range(n):\n",
    "        minn.append(0x3f3f3f3f)\n",
    "        maxn.append(-0x3f3f3f3f)\n",
    "    \n",
    "    se=set(df['time'])\n",
    "    \n",
    "    for idx in se:\n",
    "        for i in range(n):\n",
    "            mp[(idx,i)]=0\n",
    "\n",
    "    for iter,row in df.iterrows():\n",
    "        bucket=int(min(max(row['money'],0)//div,n-1))\n",
    "        tar=(row['time'],bucket)\n",
    "        mp[tar]=mp.get(tar)+1\n",
    "        minn[bucket]=min(minn[bucket],row['money'])\n",
    "        maxn[bucket]=max(maxn[bucket],row['money'])\n",
    "    \n",
    "\n",
    "    mp=dict(sorted(mp.items(),key=lambda x:(x[0][1],x[0][0])))\n",
    "    import json\n",
    "    with open(\"data_flow.json\", 'w', encoding='utf8') as f:\n",
    "        obj = [{\"time\": a, \"group\": str([minn[b],maxn[b]]),\"value\":v }for (a,b), v in mp.items()]\n",
    "        json.dump(obj, f, ensure_ascii=False)\n",
    "    "
   ]
  },
  {
   "cell_type": "code",
   "execution_count": 12,
   "metadata": {},
   "outputs": [],
   "source": [
    "solve(1000)"
   ]
  },
  {
   "cell_type": "code",
   "execution_count": 25,
   "metadata": {},
   "outputs": [],
   "source": [
    "n=6\n",
    "\n",
    "df=pd.read_csv('flow_data.csv')"
   ]
  },
  {
   "cell_type": "code",
   "execution_count": 30,
   "metadata": {},
   "outputs": [
    {
     "name": "stdout",
     "output_type": "stream",
     "text": [
      "2018-05-11\n",
      "2018-05-17\n",
      "2018-05-09\n",
      "2018-05-30\n",
      "2018-05-27\n",
      "2018-05-10\n",
      "2018-05-06\n",
      "2018-05-08\n",
      "2018-05-29\n",
      "2018-05-26\n",
      "2018-05-22\n",
      "2018-05-28\n",
      "2018-05-25\n",
      "2018-05-19\n",
      "2018-05-12\n",
      "2018-05-20\n",
      "2018-05-23\n",
      "2018-05-07\n",
      "2018-05-16\n",
      "2018-05-14\n",
      "2018-05-18\n",
      "2018-05-03\n",
      "2018-05-02\n",
      "2018-05-15\n",
      "2018-05-05\n",
      "2018-05-21\n",
      "2018-05-04\n",
      "2018-05-24\n",
      "2018-05-01\n",
      "2018-05-31\n",
      "2018-05-13\n"
     ]
    }
   ],
   "source": [
    "se=set(df['time'])\n",
    "for idx in se:\n",
    "    print(idx)"
   ]
  },
  {
   "cell_type": "code",
   "execution_count": 20,
   "metadata": {},
   "outputs": [],
   "source": [
    "div=59242.27/n\n",
    "mp={}\n",
    "minn=[]\n",
    "maxn=[]\n",
    "for i in range(n):\n",
    "    minn.append(0x3f3f3f3f)\n",
    "    maxn.append(-0x3f3f3f3f)\n",
    "\n",
    "for iter,row in df.iterrows():\n",
    "    bucket=int(min(max(row['money'],0)//div,n-1))\n",
    "    tar=(row['time'],bucket)\n",
    "    mp[tar]=mp.get(tar,0)+1\n",
    "    minn[bucket]=min(minn[bucket],row['money'])\n",
    "    maxn[bucket]=max(maxn[bucket],row['money'])\n"
   ]
  },
  {
   "cell_type": "code",
   "execution_count": 23,
   "metadata": {},
   "outputs": [],
   "source": [
    "import json\n",
    "with open(\"flow_data.json\", 'w', encoding='utf8') as f:\n",
    "    obj = [{\"time\": a, \"group\": str([minn[b],maxn[b]]),\"value\":v }for (a,b), v in mp.items()]\n",
    "    json.dump(obj, f, ensure_ascii=False)"
   ]
  }
 ],
 "metadata": {
  "kernelspec": {
   "display_name": "Python 3.8.8 ('base')",
   "language": "python",
   "name": "python3"
  },
  "language_info": {
   "codemirror_mode": {
    "name": "ipython",
    "version": 3
   },
   "file_extension": ".py",
   "mimetype": "text/x-python",
   "name": "python",
   "nbconvert_exporter": "python",
   "pygments_lexer": "ipython3",
   "version": "3.8.8"
  },
  "orig_nbformat": 4,
  "vscode": {
   "interpreter": {
    "hash": "241889a0b61dbbef2cf3a4038ddd1b115bba6b3613df59268b4bbaaab4b322a4"
   }
  }
 },
 "nbformat": 4,
 "nbformat_minor": 2
}
