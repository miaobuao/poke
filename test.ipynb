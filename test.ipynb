{
 "cells": [
  {
   "cell_type": "code",
   "execution_count": 2,
   "metadata": {},
   "outputs": [],
   "source": [
    "import sys\n",
    "sys.path.append(\"D:/File/大/大三下/poke\")\n",
    "# 导入 Flask 框架、request 对象和 secure_filename 方法\n",
    "from flask import Flask, request, jsonify\n",
    "from werkzeug.utils import secure_filename\n",
    "import os\n",
    "from Processing import Processing\n",
    "from flask_cors import *"
   ]
  },
  {
   "cell_type": "code",
   "execution_count": 3,
   "metadata": {},
   "outputs": [],
   "source": [
    "# 允许上传的文件类型，这里限制为 csv、xlsx 和 xls 格式的文件\n",
    "ALLOWED_EXTENSIONS = set(['csv', 'xlsx', 'xls'])\n",
    "\n",
    "# 检查上传的文件类型是否在 ALLOWED_EXTENSIONS 中\n",
    "def isAllowedFile(filename):\n",
    "    return '.'in filename and filename.split('.')[-1] in ALLOWED_EXTENSIONS"
   ]
  },
  {
   "cell_type": "code",
   "execution_count": 4,
   "metadata": {},
   "outputs": [
    {
     "data": {
      "text/plain": [
       "<flask_cors.extension.CORS at 0x1a1627a4d30>"
      ]
     },
     "execution_count": 4,
     "metadata": {},
     "output_type": "execute_result"
    }
   ],
   "source": [
    "app=Flask(__name__)\n",
    "# 设置文件上传保存路径，这里设置为当前文件夹下的 upload 文件夹\n",
    "app.config['UPLOAD_FOLDER'] = 'upload/'\n",
    "CORS(app, supports_credentials=True)"
   ]
  },
  {
   "cell_type": "code",
   "execution_count": 5,
   "metadata": {},
   "outputs": [],
   "source": [
    "@app.route('/load_network',methods=['GET'])\n",
    "def load_network():\n",
    "    with open(\"network_data.json\",'r', encoding='UTF-8') as f:\n",
    "        load_dict = f.read()\n",
    "    return load_dict"
   ]
  },
  {
   "cell_type": "code",
   "execution_count": 6,
   "metadata": {},
   "outputs": [],
   "source": [
    "@app.route('/load_wordcloud',methods=['GET'])\n",
    "def load_wordcloud():\n",
    "    with open(\"wordcloud.json\",'r', encoding='UTF-8') as f:\n",
    "        load_dict = f.read()\n",
    "    return load_dict"
   ]
  },
  {
   "cell_type": "code",
   "execution_count": 7,
   "metadata": {},
   "outputs": [],
   "source": [
    "@app.route('/load_line',methods=['POST'])\n",
    "def load_line():\n",
    "    lst=request.get_json()\n",
    "\n",
    "    import json\n",
    "    with open('line_data.json','r', encoding='UTF-8')as f:\n",
    "        data=json.load(f)\n",
    "    ans=[]\n",
    "    for hosptial in lst: \n",
    "        ans.append(data[hosptial])\n",
    "    return json.dumps({k: data[k] for k in lst}, ensure_ascii=False)"
   ]
  },
  {
   "cell_type": "code",
   "execution_count": 8,
   "metadata": {},
   "outputs": [],
   "source": [
    "@app.route('/load_hospital',methods=['GET'])\n",
    "def load_hospital():\n",
    "    import json\n",
    "    with open('line_hospital.json','r', encoding='UTF-8')as f:\n",
    "        data=json.load(f)\n",
    "    \n",
    "    return json.dumps(data, ensure_ascii=False)"
   ]
  },
  {
   "cell_type": "code",
   "execution_count": 9,
   "metadata": {},
   "outputs": [],
   "source": [
    "# # 加载模型\n",
    "# model = torch.nn.Sequential(torch.nn.Linear(784, 128), torch.nn.ReLU(), torch.nn.Linear(128, 10))\n",
    "# model.load_state_dict(torch.load('mnist_model.pth'))\n",
    "# model.eval()\n",
    "\n",
    "@app.route('/upload', methods=['POST'])\n",
    "def upload_file():\n",
    "    # 处理文件上传请求\n",
    "    # if request.method == 'POST':\n",
    "        # 判断请求中是否包含文件\n",
    "        if 'file' not in request.files:\n",
    "            return {'message': 'No file part'}\n",
    "        file = request.files['file']\n",
    "\n",
    "        # 如果用户没有选择文件，则返回错误信息\n",
    "        if file.filename == '':\n",
    "            return {'message': 'No selected file'}\n",
    "\n",
    "        # 如果用户上传的文件符合要求，则保存文件并返回成功信息\n",
    "        if file and isAllowedFile(file.filename):\n",
    "            # 使用 secure_filename 方法生成安全文件名\n",
    "            filename = secure_filename(file.filename)\n",
    "            # 将文件保存到指定目录\n",
    "            originPath=os.path.join(app.config['UPLOAD_FOLDER'], filename)\n",
    "            processedPath=os.path.join(app.config['UPLOAD_FOLDER'], \"processed\"+filename.split('.')[0]+\".csv\")\n",
    "            file.save(originPath)\n",
    "            print(\"start process data...\")\n",
    "            # 数据预处理并预测\n",
    "            prcs=Processing()\n",
    "            prcs.processing(originPath,processedPath)\n",
    "            print(\"process data overed\")\n",
    "            # ans=predict()\n",
    "            # return {'message': ans}\n",
    "            \n",
    "            return jsonify({'message': 'File uploaded successfully'})"
   ]
  },
  {
   "cell_type": "code",
   "execution_count": 10,
   "metadata": {},
   "outputs": [
    {
     "name": "stdout",
     "output_type": "stream",
     "text": [
      " * Serving Flask app \"__main__\" (lazy loading)\n",
      " * Environment: production\n",
      "   WARNING: This is a development server. Do not use it in a production deployment.\n",
      "   Use a production WSGI server instead.\n",
      " * Debug mode: off\n"
     ]
    },
    {
     "name": "stderr",
     "output_type": "stream",
     "text": [
      " * Running on http://127.0.0.1:5000/ (Press CTRL+C to quit)\n",
      "127.0.0.1 - - [07/Jun/2023 23:20:08] \"\u001b[33mGET / HTTP/1.1\u001b[0m\" 404 -\n",
      "127.0.0.1 - - [07/Jun/2023 23:20:09] \"\u001b[33mGET / HTTP/1.1\u001b[0m\" 404 -\n",
      "127.0.0.1 - - [07/Jun/2023 23:20:09] \"\u001b[33mGET /favicon.ico HTTP/1.1\u001b[0m\" 404 -\n",
      "127.0.0.1 - - [07/Jun/2023 23:20:20] \"\u001b[33mGET /hospital HTTP/1.1\u001b[0m\" 404 -\n",
      "127.0.0.1 - - [07/Jun/2023 23:20:39] \"\u001b[37mGET /load_hospital HTTP/1.1\u001b[0m\" 200 -\n"
     ]
    }
   ],
   "source": [
    "if __name__ == '__main__':\n",
    "    app.run()"
   ]
  }
 ],
 "metadata": {
  "kernelspec": {
   "display_name": "Python 3.8.8 ('base')",
   "language": "python",
   "name": "python3"
  },
  "language_info": {
   "codemirror_mode": {
    "name": "ipython",
    "version": 3
   },
   "file_extension": ".py",
   "mimetype": "text/x-python",
   "name": "python",
   "nbconvert_exporter": "python",
   "pygments_lexer": "ipython3",
   "version": "3.8.8"
  },
  "orig_nbformat": 4,
  "vscode": {
   "interpreter": {
    "hash": "241889a0b61dbbef2cf3a4038ddd1b115bba6b3613df59268b4bbaaab4b322a4"
   }
  }
 },
 "nbformat": 4,
 "nbformat_minor": 2
}
