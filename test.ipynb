{
 "cells": [
  {
   "cell_type": "code",
   "execution_count": 27,
   "metadata": {},
   "outputs": [],
   "source": [
    "import sys\n",
    "sys.path.append(\"D:/File/大/大三下/poke\")\n",
    "# 导入 Flask 框架、request 对象和 secure_filename 方法\n",
    "from flask import Flask, request, jsonify\n",
    "from werkzeug.utils import secure_filename\n",
    "import os\n",
    "from processData import processData"
   ]
  },
  {
   "cell_type": "code",
   "execution_count": 28,
   "metadata": {},
   "outputs": [
    {
     "data": {
      "text/plain": [
       "CL_OWNER_PAY_AMT\n",
       "0.354208    1\n",
       "0.354208    1\n",
       "0.354208    1\n",
       "0.354208    0\n",
       "0.197284    0\n",
       "           ..\n",
       "0.354208    0\n",
       "0.354208    0\n",
       "0.581685    0\n",
       "0.354208    1\n",
       "0.721002    1\n",
       "Name: FRAUD, Length: 65359, dtype: int64"
      ]
     },
     "execution_count": 28,
     "metadata": {},
     "output_type": "execute_result"
    }
   ],
   "source": [
    "import pandas as pd\n",
    "df_data = pd.read_csv('df_data_premodel_final.csv',index_col=[0])\n",
    "df_data['FRAUD']"
   ]
  },
  {
   "cell_type": "code",
   "execution_count": 29,
   "metadata": {},
   "outputs": [],
   "source": [
    "# 允许上传的文件类型，这里限制为 csv、xlsx 和 xls 格式的文件\n",
    "ALLOWED_EXTENSIONS = set(['csv', 'xlsx', 'xls'])\n",
    "\n",
    "# 检查上传的文件类型是否在 ALLOWED_EXTENSIONS 中\n",
    "def isAllowedFile(filename):\n",
    "    return '.'in filename and filename.split('.')[-1] in ALLOWED_EXTENSIONS"
   ]
  },
  {
   "cell_type": "code",
   "execution_count": 30,
   "metadata": {},
   "outputs": [],
   "source": [
    "app=Flask(__name__)\n",
    "# 设置文件上传保存路径，这里设置为当前文件夹下的 upload 文件夹\n",
    "app.config['UPLOAD_FOLDER'] = 'upload/'\n",
    "\n",
    "\n",
    "@app.route('/upload', methods=['POST'])\n",
    "def upload_file():\n",
    "    # 处理文件上传请求\n",
    "    # if request.method == 'POST':\n",
    "        # 判断请求中是否包含文件\n",
    "        if 'file' not in request.files:\n",
    "            return {'message': 'No file part'}\n",
    "        file = request.files['file']\n",
    "\n",
    "        # 如果用户没有选择文件，则返回错误信息\n",
    "        if file.filename == '':\n",
    "            return {'message': 'No selected file'}\n",
    "\n",
    "        # 如果用户上传的文件符合要求，则保存文件并返回成功信息\n",
    "        if file and isAllowedFile(file.filename):\n",
    "            # 使用 secure_filename 方法生成安全文件名\n",
    "            filename = secure_filename(file.filename)\n",
    "            # 将文件保存到指定目录\n",
    "            originPath=os.path.join(app.config['UPLOAD_FOLDER'], filename)\n",
    "            processedPath=os.path.join(app.config['UPLOAD_FOLDER'], \"processed\"+filename)\n",
    "            file.save(originPath)\n",
    "            print(originPath)\n",
    "            # 数据预处理并预测\n",
    "            # processData(originPath,processedPath)\n",
    "            # ans=predict()\n",
    "            # return {'message': ans}\n",
    "            \n",
    "            return jsonify({'message': 'File uploaded successfully'})\n",
    "\n",
    "        # 如果用户上传的文件不符合要求，则返回错误信息\n",
    "    #     else:\n",
    "    #         return {'message': 'Allowed file types are csv, xlsx, xls'}\n",
    "    # return '''\n",
    "    # <!doctype html>\n",
    "    # <title>Upload new File</title>\n",
    "    # <h1>Upload new File</h1>\n",
    "    # <form action=\"\" method=post enctype=multipart/form-data>\n",
    "    #   <p><input type=file name=file>\n",
    "    #      <input type=submit value=Upload>\n",
    "    # </form>\n",
    "    # '''"
   ]
  },
  {
   "cell_type": "code",
   "execution_count": 31,
   "metadata": {},
   "outputs": [],
   "source": [
    "import json\n",
    "@app.route('/load_network',methods=['GET'])\n",
    "def load_network():\n",
    "    with open(\"network_data.json\",'r', encoding='UTF-8') as f:\n",
    "        load_dict = json.load(f)\n",
    "    return load_dict"
   ]
  },
  {
   "cell_type": "code",
   "execution_count": 32,
   "metadata": {},
   "outputs": [
    {
     "name": "stdout",
     "output_type": "stream",
     "text": [
      " * Serving Flask app \"__main__\" (lazy loading)\n",
      " * Environment: production\n",
      "   WARNING: This is a development server. Do not use it in a production deployment.\n",
      "   Use a production WSGI server instead.\n",
      " * Debug mode: off\n"
     ]
    },
    {
     "name": "stderr",
     "output_type": "stream",
     "text": [
      " * Running on http://127.0.0.1:5000/ (Press CTRL+C to quit)\n",
      "127.0.0.1 - - [06/Jun/2023 09:27:55] \"\u001b[37mGET /load_network HTTP/1.1\u001b[0m\" 200 -\n",
      "127.0.0.1 - - [06/Jun/2023 09:51:41] \"\u001b[37mGET /load_network HTTP/1.1\u001b[0m\" 200 -\n"
     ]
    }
   ],
   "source": [
    "if __name__ == '__main__':\n",
    "    app.run()"
   ]
  }
 ],
 "metadata": {
  "kernelspec": {
   "display_name": "Python 3.8.8 ('base')",
   "language": "python",
   "name": "python3"
  },
  "language_info": {
   "codemirror_mode": {
    "name": "ipython",
    "version": 3
   },
   "file_extension": ".py",
   "mimetype": "text/x-python",
   "name": "python",
   "nbconvert_exporter": "python",
   "pygments_lexer": "ipython3",
   "version": "3.8.8"
  },
  "orig_nbformat": 4,
  "vscode": {
   "interpreter": {
    "hash": "241889a0b61dbbef2cf3a4038ddd1b115bba6b3613df59268b4bbaaab4b322a4"
   }
  }
 },
 "nbformat": 4,
 "nbformat_minor": 2
}
