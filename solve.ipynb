{
 "cells": [
  {
   "cell_type": "code",
   "execution_count": 5,
   "metadata": {},
   "outputs": [
    {
     "data": {
      "text/plain": [
       "{'湖南中医学院第一附属医院': [{'time': '2018-05-01', 'count': 0},\n",
       "  {'time': '2018-05-02', 'count': 0},\n",
       "  {'time': '2018-05-03', 'count': 0},\n",
       "  {'time': '2018-05-04', 'count': 0},\n",
       "  {'time': '2018-05-05', 'count': 0},\n",
       "  {'time': '2018-05-06', 'count': 0},\n",
       "  {'time': '2018-05-07', 'count': 0},\n",
       "  {'time': '2018-05-08', 'count': 0},\n",
       "  {'time': '2018-05-09', 'count': 0},\n",
       "  {'time': '2018-05-10', 'count': 0},\n",
       "  {'time': '2018-05-11', 'count': 0},\n",
       "  {'time': '2018-05-12', 'count': 0},\n",
       "  {'time': '2018-05-13', 'count': 0},\n",
       "  {'time': '2018-05-14', 'count': 0},\n",
       "  {'time': '2018-05-15', 'count': 0},\n",
       "  {'time': '2018-05-16', 'count': 0},\n",
       "  {'time': '2018-05-17', 'count': 0},\n",
       "  {'time': '2018-05-18', 'count': 0},\n",
       "  {'time': '2018-05-19', 'count': 0},\n",
       "  {'time': '2018-05-20', 'count': 0},\n",
       "  {'time': '2018-05-21', 'count': 0},\n",
       "  {'time': '2018-05-22', 'count': 0},\n",
       "  {'time': '2018-05-23', 'count': 0},\n",
       "  {'time': '2018-05-24', 'count': 0},\n",
       "  {'time': '2018-05-25', 'count': 0},\n",
       "  {'time': '2018-05-26', 'count': 0},\n",
       "  {'time': '2018-05-27', 'count': 0},\n",
       "  {'time': '2018-05-28', 'count': 0},\n",
       "  {'time': '2018-05-29', 'count': 0},\n",
       "  {'time': '2018-05-30', 'count': 0},\n",
       "  {'time': '2018-05-31', 'count': 0}],\n",
       " '单县东大医院': [{'time': '2018-05-01', 'count': 0},\n",
       "  {'time': '2018-05-02', 'count': 0},\n",
       "  {'time': '2018-05-03', 'count': 0},\n",
       "  {'time': '2018-05-04', 'count': 0},\n",
       "  {'time': '2018-05-05', 'count': 0},\n",
       "  {'time': '2018-05-06', 'count': 0},\n",
       "  {'time': '2018-05-07', 'count': 0},\n",
       "  {'time': '2018-05-08', 'count': 0},\n",
       "  {'time': '2018-05-09', 'count': 0},\n",
       "  {'time': '2018-05-10', 'count': 0},\n",
       "  {'time': '2018-05-11', 'count': 0},\n",
       "  {'time': '2018-05-12', 'count': 0},\n",
       "  {'time': '2018-05-13', 'count': 0},\n",
       "  {'time': '2018-05-14', 'count': 0},\n",
       "  {'time': '2018-05-15', 'count': 0},\n",
       "  {'time': '2018-05-16', 'count': 0},\n",
       "  {'time': '2018-05-17', 'count': 0},\n",
       "  {'time': '2018-05-18', 'count': 0},\n",
       "  {'time': '2018-05-19', 'count': 0},\n",
       "  {'time': '2018-05-20', 'count': 0},\n",
       "  {'time': '2018-05-21', 'count': 0},\n",
       "  {'time': '2018-05-22', 'count': 0},\n",
       "  {'time': '2018-05-23', 'count': 0},\n",
       "  {'time': '2018-05-24', 'count': 0},\n",
       "  {'time': '2018-05-25', 'count': 0},\n",
       "  {'time': '2018-05-26', 'count': 0},\n",
       "  {'time': '2018-05-27', 'count': 0},\n",
       "  {'time': '2018-05-28', 'count': 0},\n",
       "  {'time': '2018-05-29', 'count': 0},\n",
       "  {'time': '2018-05-30', 'count': 0},\n",
       "  {'time': '2018-05-31', 'count': 0}]}"
      ]
     },
     "execution_count": 5,
     "metadata": {},
     "output_type": "execute_result"
    }
   ],
   "source": [
    "lst=['湖南中医学院第一附属医院','单县东大医院']\n",
    "import json\n",
    "with open('line_data.json','r', encoding='UTF-8')as f:\n",
    "    data=json.load(f)\n",
    "ans=[]\n",
    "for hosptial in lst: \n",
    "    ans.append(data[hosptial])\n",
    "{k: data[k] for k in lst}"
   ]
  }
 ],
 "metadata": {
  "kernelspec": {
   "display_name": "Python 3.8.8 ('base')",
   "language": "python",
   "name": "python3"
  },
  "language_info": {
   "codemirror_mode": {
    "name": "ipython",
    "version": 3
   },
   "file_extension": ".py",
   "mimetype": "text/x-python",
   "name": "python",
   "nbconvert_exporter": "python",
   "pygments_lexer": "ipython3",
   "version": "3.8.8"
  },
  "orig_nbformat": 4,
  "vscode": {
   "interpreter": {
    "hash": "241889a0b61dbbef2cf3a4038ddd1b115bba6b3613df59268b4bbaaab4b322a4"
   }
  }
 },
 "nbformat": 4,
 "nbformat_minor": 2
}
