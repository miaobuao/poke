{
 "cells": [
  {
   "cell_type": "code",
   "execution_count": 1,
   "metadata": {},
   "outputs": [],
   "source": [
    "import pandas as pd"
   ]
  },
  {
   "cell_type": "code",
   "execution_count": null,
   "metadata": {},
   "outputs": [],
   "source": [
    "def solve(n):\n",
    "    df=pd.read_csv('flow_data.csv')\n",
    "    div=59242.27/n\n",
    "    mp={}\n",
    "    minn=[]\n",
    "    maxn=[]\n",
    "    for i in range(n):\n",
    "        minn.append(0x3f3f3f3f)\n",
    "        maxn.append(-0x3f3f3f3f)\n",
    "\n",
    "    for iter,row in df.iterrows():\n",
    "        bucket=int(min(max(row['money'],0)//div,n-1))\n",
    "        tar=(row['time'],bucket)\n",
    "        mp[tar]=mp.get(tar,0)+1\n",
    "        minn[bucket]=min(minn[bucket],row['money'])\n",
    "        maxn[bucket]=max(maxn[bucket],row['money'])\n",
    "    \n",
    "    import json\n",
    "    with open(\"flow_data.json\", 'w', encoding='utf8') as f:\n",
    "        obj = [{\"time\": a, \"group\": str([minn[b],maxn[b]]),\"value\":v }for (a,b), v in mp.items()]\n",
    "        json.dump(obj, f, ensure_ascii=False)\n",
    "    "
   ]
  },
  {
   "cell_type": "code",
   "execution_count": 7,
   "metadata": {},
   "outputs": [],
   "source": [
    "n=6\n",
    "\n",
    "df=pd.read_csv('flow_data.csv')"
   ]
  },
  {
   "cell_type": "code",
   "execution_count": 12,
   "metadata": {},
   "outputs": [
    {
     "data": {
      "text/html": [
       "<div>\n",
       "<style scoped>\n",
       "    .dataframe tbody tr th:only-of-type {\n",
       "        vertical-align: middle;\n",
       "    }\n",
       "\n",
       "    .dataframe tbody tr th {\n",
       "        vertical-align: top;\n",
       "    }\n",
       "\n",
       "    .dataframe thead th {\n",
       "        text-align: right;\n",
       "    }\n",
       "</style>\n",
       "<table border=\"1\" class=\"dataframe\">\n",
       "  <thead>\n",
       "    <tr style=\"text-align: right;\">\n",
       "      <th></th>\n",
       "      <th>Unnamed: 0</th>\n",
       "      <th>time</th>\n",
       "      <th>money</th>\n",
       "    </tr>\n",
       "  </thead>\n",
       "  <tbody>\n",
       "    <tr>\n",
       "      <th>59575</th>\n",
       "      <td>59575</td>\n",
       "      <td>2018-05-22</td>\n",
       "      <td>-320.82</td>\n",
       "    </tr>\n",
       "    <tr>\n",
       "      <th>21490</th>\n",
       "      <td>21490</td>\n",
       "      <td>2018-05-08</td>\n",
       "      <td>-0.60</td>\n",
       "    </tr>\n",
       "    <tr>\n",
       "      <th>69012</th>\n",
       "      <td>69012</td>\n",
       "      <td>2018-05-28</td>\n",
       "      <td>0.00</td>\n",
       "    </tr>\n",
       "    <tr>\n",
       "      <th>51152</th>\n",
       "      <td>51152</td>\n",
       "      <td>2018-05-21</td>\n",
       "      <td>0.00</td>\n",
       "    </tr>\n",
       "    <tr>\n",
       "      <th>51144</th>\n",
       "      <td>51144</td>\n",
       "      <td>2018-05-21</td>\n",
       "      <td>0.00</td>\n",
       "    </tr>\n",
       "    <tr>\n",
       "      <th>...</th>\n",
       "      <td>...</td>\n",
       "      <td>...</td>\n",
       "      <td>...</td>\n",
       "    </tr>\n",
       "    <tr>\n",
       "      <th>48393</th>\n",
       "      <td>48393</td>\n",
       "      <td>2018-05-19</td>\n",
       "      <td>29947.67</td>\n",
       "    </tr>\n",
       "    <tr>\n",
       "      <th>27370</th>\n",
       "      <td>27370</td>\n",
       "      <td>2018-05-10</td>\n",
       "      <td>32685.85</td>\n",
       "    </tr>\n",
       "    <tr>\n",
       "      <th>69814</th>\n",
       "      <td>69814</td>\n",
       "      <td>2018-05-29</td>\n",
       "      <td>50078.31</td>\n",
       "    </tr>\n",
       "    <tr>\n",
       "      <th>37518</th>\n",
       "      <td>37518</td>\n",
       "      <td>2018-05-15</td>\n",
       "      <td>59242.27</td>\n",
       "    </tr>\n",
       "    <tr>\n",
       "      <th>42010</th>\n",
       "      <td>42010</td>\n",
       "      <td>2018-05-17</td>\n",
       "      <td>264047.50</td>\n",
       "    </tr>\n",
       "  </tbody>\n",
       "</table>\n",
       "<p>77079 rows × 3 columns</p>\n",
       "</div>"
      ],
      "text/plain": [
       "       Unnamed: 0        time      money\n",
       "59575       59575  2018-05-22    -320.82\n",
       "21490       21490  2018-05-08      -0.60\n",
       "69012       69012  2018-05-28       0.00\n",
       "51152       51152  2018-05-21       0.00\n",
       "51144       51144  2018-05-21       0.00\n",
       "...           ...         ...        ...\n",
       "48393       48393  2018-05-19   29947.67\n",
       "27370       27370  2018-05-10   32685.85\n",
       "69814       69814  2018-05-29   50078.31\n",
       "37518       37518  2018-05-15   59242.27\n",
       "42010       42010  2018-05-17  264047.50\n",
       "\n",
       "[77079 rows x 3 columns]"
      ]
     },
     "execution_count": 12,
     "metadata": {},
     "output_type": "execute_result"
    }
   ],
   "source": [
    "a=df.sort_values(by=['money'])\n",
    "a"
   ]
  },
  {
   "cell_type": "code",
   "execution_count": 20,
   "metadata": {},
   "outputs": [],
   "source": [
    "div=59242.27/n\n",
    "mp={}\n",
    "minn=[]\n",
    "maxn=[]\n",
    "for i in range(n):\n",
    "    minn.append(0x3f3f3f3f)\n",
    "    maxn.append(-0x3f3f3f3f)\n",
    "\n",
    "for iter,row in df.iterrows():\n",
    "    bucket=int(min(max(row['money'],0)//div,n-1))\n",
    "    tar=(row['time'],bucket)\n",
    "    mp[tar]=mp.get(tar,0)+1\n",
    "    minn[bucket]=min(minn[bucket],row['money'])\n",
    "    maxn[bucket]=max(maxn[bucket],row['money'])\n"
   ]
  },
  {
   "cell_type": "code",
   "execution_count": 23,
   "metadata": {},
   "outputs": [],
   "source": [
    "import json\n",
    "with open(\"flow_data.json\", 'w', encoding='utf8') as f:\n",
    "    obj = [{\"time\": a, \"group\": str([minn[b],maxn[b]]),\"value\":v }for (a,b), v in mp.items()]\n",
    "    json.dump(obj, f, ensure_ascii=False)"
   ]
  }
 ],
 "metadata": {
  "kernelspec": {
   "display_name": "Python 3.8.8 ('base')",
   "language": "python",
   "name": "python3"
  },
  "language_info": {
   "codemirror_mode": {
    "name": "ipython",
    "version": 3
   },
   "file_extension": ".py",
   "mimetype": "text/x-python",
   "name": "python",
   "nbconvert_exporter": "python",
   "pygments_lexer": "ipython3",
   "version": "3.8.8"
  },
  "orig_nbformat": 4,
  "vscode": {
   "interpreter": {
    "hash": "241889a0b61dbbef2cf3a4038ddd1b115bba6b3613df59268b4bbaaab4b322a4"
   }
  }
 },
 "nbformat": 4,
 "nbformat_minor": 2
}
