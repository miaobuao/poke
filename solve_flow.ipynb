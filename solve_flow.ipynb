{
 "cells": [
  {
   "cell_type": "code",
   "execution_count": 1,
   "metadata": {},
   "outputs": [],
   "source": [
    "import pandas as pd"
   ]
  },
  {
   "cell_type": "code",
   "execution_count": 2,
   "metadata": {},
   "outputs": [],
   "source": [
    "df_data = pd.read_excel('data_ori.xlsx',index_col=[0])"
   ]
  },
  {
   "cell_type": "code",
   "execution_count": 5,
   "metadata": {},
   "outputs": [
    {
     "data": {
      "text/plain": [
       "0            RMB 15\n",
       "1        RMB 493.95\n",
       "2          RMB 49.8\n",
       "3           RMB 140\n",
       "4           RMB 100\n",
       "            ...    \n",
       "77074    RMB 174.74\n",
       "77075        RMB 16\n",
       "77076       RMB 130\n",
       "77077         RMB 0\n",
       "77078    RMB 120.01\n",
       "Name: ORG_PRES_AMT, Length: 77079, dtype: object"
      ]
     },
     "execution_count": 5,
     "metadata": {},
     "output_type": "execute_result"
    }
   ],
   "source": [
    "df_data['INCUR_DATE_FROM']\n",
    "df_data['ORG_PRES_AMT']"
   ]
  },
  {
   "cell_type": "code",
   "execution_count": 34,
   "metadata": {},
   "outputs": [],
   "source": [
    "nw = []\n",
    "for idx,row in df_data.iterrows():\n",
    "    ti=(str(row['INCUR_DATE_FROM']).split(' ')[0])\n",
    "    mon=float(str(row['ORG_PRES_AMT']).split(' ')[1])\n",
    "    tmp={'time':ti,'money':mon}\n",
    "    s = pd.Series(tmp)\n",
    "    nw.append(s)\n",
    "nw_df = pd.DataFrame(nw)\n"
   ]
  },
  {
   "cell_type": "code",
   "execution_count": 36,
   "metadata": {},
   "outputs": [],
   "source": [
    "nw_df.to_csv('flow_data.csv')"
   ]
  }
 ],
 "metadata": {
  "kernelspec": {
   "display_name": "Python 3.8.8 ('base')",
   "language": "python",
   "name": "python3"
  },
  "language_info": {
   "codemirror_mode": {
    "name": "ipython",
    "version": 3
   },
   "file_extension": ".py",
   "mimetype": "text/x-python",
   "name": "python",
   "nbconvert_exporter": "python",
   "pygments_lexer": "ipython3",
   "version": "3.8.8"
  },
  "orig_nbformat": 4,
  "vscode": {
   "interpreter": {
    "hash": "241889a0b61dbbef2cf3a4038ddd1b115bba6b3613df59268b4bbaaab4b322a4"
   }
  }
 },
 "nbformat": 4,
 "nbformat_minor": 2
}
